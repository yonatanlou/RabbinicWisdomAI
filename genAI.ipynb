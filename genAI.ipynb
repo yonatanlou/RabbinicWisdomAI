{
 "cells": [
  {
   "cell_type": "code",
   "execution_count": 1,
   "metadata": {
    "execution": {
     "iopub.execute_input": "2024-09-12T08:25:12.670704Z",
     "iopub.status.busy": "2024-09-12T08:25:12.670361Z",
     "iopub.status.idle": "2024-09-12T08:25:13.171564Z",
     "shell.execute_reply": "2024-09-12T08:25:13.170738Z",
     "shell.execute_reply.started": "2024-09-12T08:25:12.670676Z"
    },
    "ExecuteTime": {
     "end_time": "2024-09-15T08:09:49.190608Z",
     "start_time": "2024-09-15T08:09:43.627281Z"
    }
   },
   "outputs": [],
   "source": [
    "\n",
    "import os\n",
    "\n",
    "import matplotlib.pyplot as plt\n",
    "import pandas as pd\n",
    "\n",
    "import clip as clip\n",
    "import wandb\n",
    "\n",
    "\n",
    "%reload_ext autoreload\n",
    "%autoreload 2"
   ]
  },
  {
   "cell_type": "markdown",
   "metadata": {},
   "source": [
    "# Data Loading"
   ]
  },
  {
   "cell_type": "code",
   "execution_count": 2,
   "metadata": {
    "collapsed": false,
    "execution": {
     "iopub.execute_input": "2024-09-12T08:25:13.173898Z",
     "iopub.status.busy": "2024-09-12T08:25:13.173457Z",
     "iopub.status.idle": "2024-09-12T08:25:13.612627Z",
     "shell.execute_reply": "2024-09-12T08:25:13.611884Z",
     "shell.execute_reply.started": "2024-09-12T08:25:13.173869Z"
    },
    "ExecuteTime": {
     "end_time": "2024-09-15T08:09:49.299645Z",
     "start_time": "2024-09-15T08:09:49.193199Z"
    }
   },
   "outputs": [
    {
     "name": "stdout",
     "output_type": "stream",
     "text": [
      "<class 'pandas.core.frame.DataFrame'>\n",
      "RangeIndex: 137 entries, 0 to 136\n",
      "Data columns (total 5 columns):\n",
      " #   Column            Non-Null Count  Dtype \n",
      "---  ------            --------------  ----- \n",
      " 0   index             137 non-null    int64 \n",
      " 1   שם התשובה ומקורו  137 non-null    object\n",
      " 2   question          137 non-null    object\n",
      " 3   label             132 non-null    object\n",
      " 4   answer            137 non-null    object\n",
      "dtypes: int64(1), object(4)\n",
      "memory usage: 5.5+ KB\n"
     ]
    }
   ],
   "source": [
    "import torch\n",
    "\n",
    "df = pd.read_csv(\"/Users/yonatanlou/dev/RabbinicWisdomAI/experiments/init/processed_data.csv\")\n",
    "df.info()\n",
    "df = df.dropna()\n",
    "df = df.rename(columns={\"index\": \"label_index\"})"
   ]
  },
  {
   "cell_type": "code",
   "execution_count": 3,
   "metadata": {
    "execution": {
     "iopub.execute_input": "2024-09-12T08:25:13.614479Z",
     "iopub.status.busy": "2024-09-12T08:25:13.613809Z",
     "iopub.status.idle": "2024-09-12T08:25:14.229170Z",
     "shell.execute_reply": "2024-09-12T08:25:14.228527Z",
     "shell.execute_reply.started": "2024-09-12T08:25:13.614448Z"
    },
    "ExecuteTime": {
     "end_time": "2024-09-15T08:10:08.954286Z",
     "start_time": "2024-09-15T08:10:08.469095Z"
    }
   },
   "outputs": [
    {
     "data": {
      "text/plain": "Text(0.5, 1.0, 'Histogram of answer length')"
     },
     "execution_count": 3,
     "metadata": {},
     "output_type": "execute_result"
    },
    {
     "data": {
      "text/plain": "<Figure size 640x480 with 1 Axes>",
      "image/png": "[encoded data removed]"
     },
     "metadata": {},
     "output_type": "display_data"
    }
   ],
   "source": [
    "df[\"answer_length\"] = df[\"answer\"].str.split(\" \").str.len()\n",
    "df[\"answer_length\"].hist(bins=50)\n",
    "plt.title(\"Histogram of answer length\")"
   ]
  },
  {
   "cell_type": "code",
   "outputs": [],
   "source": [
    "import os\n",
    "openai_api_key  = \"yyy\"\n",
    "os.environ[\"OPENAI_API_KEY\"] = openai_api_key\n",
    "from openai import OpenAI\n",
    "from tqdm.notebook import tqdm\n",
    "\n",
    "\n",
    "\n",
    "# Define a function to get the GPT-4o-mini response\n",
    "def get_rabbi_answer(question):\n",
    "    prompt = f\"You are a Jewish Rabbi who has a broad knowledge about all kinds of Jewish matters. I will ask you a question, and you will answer it. Please answer concisely, and your answer should be no longer than 600 words. Don't include any formatting to the text. Dont include new lines\"\n",
    "    client = OpenAI(\n",
    ")\n",
    "    try:\n",
    "        # Use the new ChatCompletion API\n",
    "        response = client.chat.completions.create(\n",
    "            model=\"gpt-4o-mini\",  # Use the correct model\n",
    "            messages=[\n",
    "                {\"role\": \"system\", \"content\": prompt},\n",
    "                {\"role\": \"user\", \"content\": question}\n",
    "            ],\n",
    "            max_tokens=600,  # Adjust token count to match the word limit (~600 words)\n",
    "            temperature=0.7  # Adjust the temperature for more or less creative responses\n",
    "        )\n",
    "        # Extract the text of the generated answer\n",
    "        answer = response.to_dict()[\"choices\"][0][\"message\"][\"content\"].strip() \n",
    "        return answer\n",
    "    except Exception as e:\n",
    "        print(f\"Error generating answer for question '{question}': {e}\")\n",
    "        return None\n",
    "\n",
    "\n",
    "df['generated_answer'] = None\n",
    "\n",
    "if not os.path.exists(\"questions_with_generated_answers.csv\"):\n",
    "    for idx, row in tqdm(df.iterrows()):\n",
    "        question = row['question']\n",
    "        generated_answer = get_rabbi_answer(question)\n",
    "        print(f\"{question=}\")\n",
    "        print(f\"{generated_answer=}\")\n",
    "        print()\n",
    "        df.at[idx, 'generated_answer'] = generated_answer\n",
    "    df.to_csv('questions_with_generated_answers.csv', index=False)\n",
    "\n",
    "\n",
    "\n",
    "df = pd.read_csv(\"questions_with_generated_answers.csv\")"
   ],
   "metadata": {
    "collapsed": false,
    "ExecuteTime": {
     "end_time": "2024-09-15T08:10:09.287207Z",
     "start_time": "2024-09-15T08:10:09.185456Z"
    }
   },
   "execution_count": 4
  },
  {
   "cell_type": "code",
   "outputs": [],
   "source": [
    "def simple_chunking(text, chunk_size=128, overlap=0):\n",
    "\n",
    "    words = text.split()\n",
    "    chunks = []\n",
    "\n",
    "    for i in range(0, len(words), chunk_size - overlap):\n",
    "        chunk = ' '.join(words[i:i + chunk_size])\n",
    "        chunks.append(chunk)\n",
    "\n",
    "    return chunks\n",
    "\n",
    "\n",
    "def get_embedding(answer: str, model, tokenizer,chunk_size=400,overlap=20, method=\"mean_last_hidden\"):\n",
    "    all_embeddings = []\n",
    "    texts = simple_chunking(answer, chunk_size=chunk_size, overlap=overlap)\n",
    "\n",
    "    for text in texts:\n",
    "        inputs = tokenizer(\n",
    "            text,\n",
    "            return_tensors=\"pt\",\n",
    "            padding=True,\n",
    "            truncation=True,\n",
    "            max_length=tokenizer.model_max_length,\n",
    "        )\n",
    "        with torch.no_grad():\n",
    "            outputs = model(**inputs)\n",
    "\n",
    "        if method == \"mean_last_hidden\":\n",
    "            embedding = outputs.last_hidden_state.mean(dim=1).cpu().numpy()\n",
    "        elif method == \"cls_token\":\n",
    "            embedding = outputs.last_hidden_state[:, 0, :].cpu().numpy()\n",
    "        elif method == \"pooler_output\":\n",
    "            embedding = outputs.pooler_output.cpu().numpy()\n",
    "        elif method == \"mean_all_layers\":\n",
    "            all_layers = outputs.hidden_states\n",
    "            mean_all_layers = torch.stack(all_layers).mean(dim=0)\n",
    "            embedding = mean_all_layers.mean(dim=1).cpu().numpy()\n",
    "        else:\n",
    "            raise ValueError(f\"Unknown method: {method}\")\n",
    "\n",
    "        all_embeddings.append(embedding)\n",
    "\n",
    "    return np.vstack(all_embeddings).mean(axis=0)  #"
   ],
   "metadata": {
    "collapsed": false,
    "ExecuteTime": {
     "end_time": "2024-09-15T08:10:10.504540Z",
     "start_time": "2024-09-15T08:10:10.434527Z"
    }
   },
   "execution_count": 5
  },
  {
   "cell_type": "code",
   "outputs": [
    {
     "name": "stderr",
     "output_type": "stream",
     "text": [
      "Some weights of BertModel were not initialized from the model checkpoint at dicta-il/BEREL and are newly initialized: ['bert.pooler.dense.bias', 'bert.pooler.dense.weight']\n",
      "You should probably TRAIN this model on a down-stream task to be able to use it for predictions and inference.\n"
     ]
    },
    {
     "data": {
      "text/plain": "Getting embeddings:   0%|          | 0/264 [00:00<?, ?it/s]",
      "application/vnd.jupyter.widget-view+json": {
       "version_major": 2,
       "version_minor": 0,
       "model_id": "74a12d13603c4692b485bb4f2eb1c4d9"
      }
     },
     "metadata": {},
     "output_type": "display_data"
    }
   ],
   "source": [
    "from transformers import AutoTokenizer, AutoModel\n",
    "from sklearn.metrics.pairwise import cosine_similarity\n",
    "from scipy.optimize import linear_sum_assignment\n",
    "import numpy as np\n",
    "from tqdm.notebook import tqdm\n",
    "model_name = 'dicta-il/BEREL'\n",
    "tokenizer = AutoTokenizer.from_pretrained(model_name)\n",
    "model = AutoModel.from_pretrained(model_name)\n",
    "# Get embeddings for all answers and generated answers\n",
    "import random\n",
    "def set_seed_globally(seed=42):\n",
    "    # Set seeds\n",
    "    np.random.seed(seed)\n",
    "    random.seed(seed)\n",
    "    torch.manual_seed(seed)\n",
    "    if torch.cuda.is_available():\n",
    "        torch.cuda.manual_seed(seed)\n",
    "        torch.cuda.manual_seed_all(seed)\n",
    "\n",
    "set_seed_globally()\n",
    "all_answers = df['answer'].tolist() + df['generated_answer'].tolist()\n",
    "embeddings = []\n",
    "for answer in tqdm(all_answers, desc=\"Getting embeddings\"):\n",
    "    embeddings.append(get_embedding(answer,model, tokenizer, chunk_size=300, overlap=30))\n",
    "\n"
   ],
   "metadata": {
    "collapsed": false,
    "ExecuteTime": {
     "end_time": "2024-09-15T08:12:18.411125Z",
     "start_time": "2024-09-15T08:10:12.956507Z"
    }
   },
   "execution_count": 6
  },
  {
   "cell_type": "code",
   "outputs": [],
   "source": [
    "df[\"gen_answer_length\"] = df[\"generated_answer\"].str.split(\" \").str.len()"
   ],
   "metadata": {
    "collapsed": false,
    "ExecuteTime": {
     "end_time": "2024-09-15T08:12:18.513719Z",
     "start_time": "2024-09-15T08:12:18.415106Z"
    }
   },
   "execution_count": 7
  },
  {
   "cell_type": "code",
   "outputs": [
    {
     "name": "stdout",
     "output_type": "stream",
     "text": [
      "real_answers_embeddings.shape=(132, 768), generated_answers_embeddings.shape=(132, 768)\n"
     ]
    }
   ],
   "source": [
    "all_embeddings_size = len(embeddings)\n",
    "\n",
    "real_answers_embeddings = np.array(embeddings[:int(all_embeddings_size/2)])\n",
    "generated_answers_embeddings = np.array(embeddings[int(all_embeddings_size/2):])\n",
    "\n",
    "real_answers_embeddings_norm =np.linalg.norm(real_answers_embeddings, axis=1, keepdims=True) \n",
    "generated_answers_embeddings_norm =np.linalg.norm(generated_answers_embeddings, axis=1, keepdims=True)\n",
    "\n",
    "real_answers_embeddings /= real_answers_embeddings_norm\n",
    "generated_answers_embeddings /= generated_answers_embeddings_norm\n",
    "\n",
    "print(f\"{real_answers_embeddings.shape=}, {generated_answers_embeddings.shape=}\")"
   ],
   "metadata": {
    "collapsed": false,
    "ExecuteTime": {
     "end_time": "2024-09-15T08:12:18.606454Z",
     "start_time": "2024-09-15T08:12:18.516221Z"
    }
   },
   "execution_count": 8
  },
  {
   "cell_type": "code",
   "outputs": [],
   "source": [
    "similarity_submatrix = cosine_similarity(real_answers_embeddings,generated_answers_embeddings)"
   ],
   "metadata": {
    "collapsed": false,
    "ExecuteTime": {
     "end_time": "2024-09-15T08:12:18.722615Z",
     "start_time": "2024-09-15T08:12:18.610675Z"
    }
   },
   "execution_count": 9
  },
  {
   "cell_type": "code",
   "outputs": [],
   "source": [
    "import numpy as np\n",
    "\n",
    "from sklearn.metrics import accuracy_score\n",
    "def knn_score(similarity_submatrix, k):\n",
    "\n",
    "    predictions = []\n",
    "    # Perform kNN for each row and check if the row index is among the top k neighbors\n",
    "    for i in range(similarity_submatrix.shape[0]):\n",
    "        row = similarity_submatrix[i, :]\n",
    "    \n",
    "        top_k = np.argsort(row)[-k:]  # Get indices of the top k values (ascending order)\n",
    "    \n",
    "        # Check if the row index itself (i) is in the top k neighbors\n",
    "        if i in top_k:\n",
    "            predictions.append(1)  # True prediction\n",
    "        else:\n",
    "            predictions.append(0)  # False prediction\n",
    "    \n",
    "    # Generate true labels (all ones, since each row should ideally predict itself)\n",
    "    true_labels = np.ones(similarity_submatrix.shape[0])\n",
    "    \n",
    "    # Calculate accuracy score\n",
    "    accuracy = accuracy_score(true_labels, predictions)\n",
    "    return accuracy, predictions\n",
    "\n",
    "\n",
    "def hungarian_score(similarity_submatrix):\n",
    "    \n",
    "    # Convert similarities to costs by subtracting from 1 (because the Hungarian algorithm finds minimum cost)\n",
    "    cost_matrix = 1 - similarity_submatrix\n",
    "    \n",
    "    # Perform matching using the Hungarian algorithm\n",
    "    row_indices, col_indices = linear_sum_assignment(cost_matrix)\n",
    "    \n",
    "    accuracy = (row_indices == col_indices).mean()\n",
    "    return accuracy, col_indices\n",
    "def evaluate_model_argmax(q_features, a_features):\n",
    "    # Normalize embeddings\n",
    "    q_features = q_features / np.linalg.norm(q_features, axis=-1, keepdims=True)\n",
    "    a_features = a_features / np.linalg.norm(a_features, axis=-1, keepdims=True)\n",
    "\n",
    "    # Compute cosine similarity matrix using sklearn's cosine_similarity\n",
    "    similarity_submatrix = cosine_similarity(q_features, a_features)\n",
    "\n",
    "    # Evaluate argmax-based accuracy\n",
    "    true_labels = np.arange(similarity_submatrix.shape[0])\n",
    "    predicted_labels = np.argmax(similarity_submatrix, axis=1)\n",
    "    \n",
    "    return accuracy_score(true_labels, predicted_labels)\n"
   ],
   "metadata": {
    "collapsed": false,
    "ExecuteTime": {
     "end_time": "2024-09-15T08:12:18.835994Z",
     "start_time": "2024-09-15T08:12:18.725283Z"
    }
   },
   "execution_count": 10
  },
  {
   "cell_type": "code",
   "outputs": [
    {
     "name": "stdout",
     "output_type": "stream",
     "text": [
      "accuracy_hung=0.6590909090909091\n",
      "accuracy_knn1=0.25, accuracy_knn2=0.39, accuracy_knn3=0.47, accuracy_knn5=0.54\n",
      "accuracy_argmax=0.25\n"
     ]
    }
   ],
   "source": [
    "accuracy_hung, prediction_hung = hungarian_score(similarity_submatrix)\n",
    "accuracy_knn1, prediction_knn = knn_score(similarity_submatrix, 1)\n",
    "accuracy_knn2, prediction_knn = knn_score(similarity_submatrix, 2)\n",
    "accuracy_knn3, prediction_knn = knn_score(similarity_submatrix, 3)\n",
    "accuracy_knn5, prediction_knn = knn_score(similarity_submatrix, 5)\n",
    "accuracy_argmax = evaluate_model_argmax(real_answers_embeddings,generated_answers_embeddings)\n",
    "print(f\"{accuracy_hung=}\")\n",
    "print(f\"{accuracy_knn1=:.2f}, {accuracy_knn2=:.2f}, {accuracy_knn3=:.2f}, {accuracy_knn5=:.2f}\")\n",
    "print(f\"{accuracy_argmax=}\")"
   ],
   "metadata": {
    "collapsed": false,
    "ExecuteTime": {
     "end_time": "2024-09-15T08:13:18.300460Z",
     "start_time": "2024-09-15T08:13:18.197294Z"
    }
   },
   "execution_count": 12
  },
  {
   "cell_type": "code",
   "outputs": [],
   "source": [],
   "metadata": {
    "collapsed": false
   }
  }
 ],
 "metadata": {
  "kernelspec": {
   "display_name": "Python 3 (ipykernel)",
   "language": "python",
   "name": "python3"
  },
  "language_info": {
   "codemirror_mode": {
    "name": "ipython",
    "version": 3
   },
   "file_extension": ".py",
   "mimetype": "text/x-python",
   "name": "python",
   "nbconvert_exporter": "python",
   "pygments_lexer": "ipython3",
   "version": "3.12.0"
  }
 },
 "nbformat": 4,
 "nbformat_minor": 4
}
